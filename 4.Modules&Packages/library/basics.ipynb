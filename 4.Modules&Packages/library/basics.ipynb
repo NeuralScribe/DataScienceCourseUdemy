{
 "cells": [
  {
   "cell_type": "code",
   "execution_count": 1,
   "metadata": {},
   "outputs": [
    {
     "name": "stdout",
     "output_type": "stream",
     "text": [
      "array('i', [1, 2, 3, 4, 5])\n"
     ]
    }
   ],
   "source": [
    "import array\n",
    "arr = array.array('i', [1,2,3,4,5])\n",
    "print(arr)"
   ]
  },
  {
   "cell_type": "code",
   "execution_count": 10,
   "metadata": {},
   "outputs": [
    {
     "name": "stdout",
     "output_type": "stream",
     "text": [
      "35\n",
      "litchi\n"
     ]
    }
   ],
   "source": [
    "import random\n",
    "print(random.randint(1,60))\n",
    "print(random.choice([\"apple\",\"litchi\",\"graps\",\"blueberry\"]))"
   ]
  },
  {
   "cell_type": "markdown",
   "metadata": {},
   "source": [
    "for file and directory access ---"
   ]
  },
  {
   "cell_type": "code",
   "execution_count": 15,
   "metadata": {},
   "outputs": [
    {
     "name": "stdout",
     "output_type": "stream",
     "text": [
      "/home/anamika/Documents/DataScienceCourseUdemy/4.Modules&Packages/library\n"
     ]
    }
   ],
   "source": [
    "import os\n",
    "print(os.getcwd())\n",
    "os.mkdir(\"test\")"
   ]
  },
  {
   "cell_type": "code",
   "execution_count": 16,
   "metadata": {},
   "outputs": [
    {
     "data": {
      "text/plain": [
       "'destination.txt'"
      ]
     },
     "execution_count": 16,
     "metadata": {},
     "output_type": "execute_result"
    }
   ],
   "source": [
    "import shutil\n",
    "shutil.copyfile(\"source.txt\",\"destination.txt\")"
   ]
  },
  {
   "cell_type": "markdown",
   "metadata": {},
   "source": [
    "Data Serialization ---"
   ]
  },
  {
   "cell_type": "code",
   "execution_count": 29,
   "metadata": {},
   "outputs": [
    {
     "name": "stdout",
     "output_type": "stream",
     "text": [
      "{'name': 'Anamika', 'age': '22'}\n",
      "<class 'dict'>\n",
      "{\"name\": \"Anamika\", \"age\": \"22\"}\n",
      "<class 'str'>\n",
      "{'name': 'Anamika', 'age': '22'}\n",
      "<class 'dict'>\n"
     ]
    }
   ],
   "source": [
    "import json\n",
    "\n",
    "data = {'name':'Anamika','age':'22'}     # creating a python dictionary\n",
    "print(data)\n",
    "print(type(data))\n",
    "\n",
    "json_str = json.dumps(data)              # converts the dictionary to a JSON-formatted string.\n",
    "print(json_str)\n",
    "print(type(json_str)) \n",
    "\n",
    "parsed_data = json.loads(json_str)       # parses or reverse the JSON string back to dictionary.\n",
    "print(parsed_data)\n",
    "print(type(parsed_data)) "
   ]
  },
  {
   "cell_type": "markdown",
   "metadata": {},
   "source": [
    "# CSV ---"
   ]
  },
  {
   "cell_type": "code",
   "execution_count": 43,
   "metadata": {},
   "outputs": [
    {
     "name": "stdout",
     "output_type": "stream",
     "text": [
      "['Name', 'Age']\n",
      "['Anamika', '22']\n"
     ]
    }
   ],
   "source": [
    "import csv\n",
    "\n",
    "with open(\"test.csv\", mode='w', newline=\"\") as file:    # opens 'test.csv' for writing without extra blank lines\n",
    "    writer = csv.writer(file)                           # creates a writer object to write to the csv\n",
    "    writer.writerow([\"Name\", \"Age\"])                    # writes the header row\n",
    "    writer.writerow([[\"Anamika\", \"22\"],[\"Souvik\",\"21\"]])                  # writes one data row\n",
    "\n",
    "with open('test.csv') as file:                          # opens test.csv for reading\n",
    "    reader = csv.reader(file)                           # creates a reader object to read the csv\n",
    "    for row in reader:                                  # iterates over each row in the csv file\n",
    "        print(row)                                      # prints each row as a list\n"
   ]
  },
  {
   "cell_type": "code",
   "execution_count": null,
   "metadata": {},
   "outputs": [],
   "source": []
  }
 ],
 "metadata": {
  "kernelspec": {
   "display_name": "Python 3 (ipykernel)",
   "language": "python",
   "name": "python3"
  },
  "language_info": {
   "codemirror_mode": {
    "name": "ipython",
    "version": 3
   },
   "file_extension": ".py",
   "mimetype": "text/x-python",
   "name": "python",
   "nbconvert_exporter": "python",
   "pygments_lexer": "ipython3",
   "version": "3.12.7"
  }
 },
 "nbformat": 4,
 "nbformat_minor": 2
}
